{
 "cells": [
  {
   "cell_type": "markdown",
   "id": "962355d1",
   "metadata": {},
   "source": [
    "## Basics of Python"
   ]
  },
  {
   "cell_type": "markdown",
   "id": "56ccff50",
   "metadata": {},
   "source": [
    "### Print Hello world"
   ]
  },
  {
   "cell_type": "code",
   "execution_count": 1,
   "id": "b6f74515",
   "metadata": {},
   "outputs": [
    {
     "name": "stdout",
     "output_type": "stream",
     "text": [
      "Hello world\n"
     ]
    }
   ],
   "source": [
    "print(\"Hello world\")"
   ]
  },
  {
   "cell_type": "code",
   "execution_count": 2,
   "id": "7d283f0a",
   "metadata": {},
   "outputs": [
    {
     "ename": "NameError",
     "evalue": "name 'Print' is not defined",
     "output_type": "error",
     "traceback": [
      "\u001b[1;31m---------------------------------------------------------------------------\u001b[0m",
      "\u001b[1;31mNameError\u001b[0m                                 Traceback (most recent call last)",
      "Input \u001b[1;32mIn [2]\u001b[0m, in \u001b[0;36m<cell line: 1>\u001b[1;34m()\u001b[0m\n\u001b[1;32m----> 1\u001b[0m \u001b[43mPrint\u001b[49m(\u001b[38;5;124m\"\u001b[39m\u001b[38;5;124mHello world\u001b[39m\u001b[38;5;124m\"\u001b[39m)\n",
      "\u001b[1;31mNameError\u001b[0m: name 'Print' is not defined"
     ]
    }
   ],
   "source": [
    "Print(\"Hello world\")"
   ]
  },
  {
   "cell_type": "code",
   "execution_count": 3,
   "id": "fd2a9b11",
   "metadata": {},
   "outputs": [],
   "source": [
    "## Python is Case-sensitive where ever we want to use lower case we sholuld use there only and the same for Upper-case"
   ]
  },
  {
   "cell_type": "code",
   "execution_count": 5,
   "id": "8a092ba2",
   "metadata": {},
   "outputs": [
    {
     "ename": "SyntaxError",
     "evalue": "invalid syntax (2144702615.py, line 1)",
     "output_type": "error",
     "traceback": [
      "\u001b[1;36m  Input \u001b[1;32mIn [5]\u001b[1;36m\u001b[0m\n\u001b[1;33m    Print(hello world)\u001b[0m\n\u001b[1;37m                ^\u001b[0m\n\u001b[1;31mSyntaxError\u001b[0m\u001b[1;31m:\u001b[0m invalid syntax\n"
     ]
    }
   ],
   "source": [
    "Print(hello world)"
   ]
  },
  {
   "cell_type": "code",
   "execution_count": 6,
   "id": "ea53ad3b",
   "metadata": {},
   "outputs": [
    {
     "name": "stdout",
     "output_type": "stream",
     "text": [
      "10\n"
     ]
    }
   ],
   "source": [
    "print(10) # integer"
   ]
  },
  {
   "cell_type": "code",
   "execution_count": 7,
   "id": "668a13ae",
   "metadata": {},
   "outputs": [
    {
     "name": "stdout",
     "output_type": "stream",
     "text": [
      "10.7\n"
     ]
    }
   ],
   "source": [
    "print(10.7) #float"
   ]
  },
  {
   "cell_type": "markdown",
   "id": "2d58cb28",
   "metadata": {},
   "source": [
    "#### Hello world"
   ]
  },
  {
   "cell_type": "code",
   "execution_count": 10,
   "id": "a023136b",
   "metadata": {},
   "outputs": [],
   "source": [
    "## For 4 Hash tags Font is getting Smaller "
   ]
  },
  {
   "cell_type": "markdown",
   "id": "13b8769d",
   "metadata": {},
   "source": [
    "## Hello world"
   ]
  },
  {
   "cell_type": "code",
   "execution_count": 11,
   "id": "64adfd10",
   "metadata": {},
   "outputs": [],
   "source": [
    "## For 2 Hash tags Font is getting Bigger  "
   ]
  },
  {
   "cell_type": "markdown",
   "id": "fe5516e0",
   "metadata": {},
   "source": [
    "# Hello world"
   ]
  },
  {
   "cell_type": "code",
   "execution_count": 13,
   "id": "33164744",
   "metadata": {},
   "outputs": [],
   "source": [
    "## For 2 Hash tags Font is getting still more Bigger  "
   ]
  },
  {
   "cell_type": "markdown",
   "id": "50c9025a",
   "metadata": {},
   "source": [
    "## Variables"
   ]
  },
  {
   "cell_type": "code",
   "execution_count": 15,
   "id": "fd2219ae",
   "metadata": {},
   "outputs": [
    {
     "ename": "SyntaxError",
     "evalue": "invalid syntax (2596174279.py, line 2)",
     "output_type": "error",
     "traceback": [
      "\u001b[1;36m  Input \u001b[1;32mIn [15]\u001b[1;36m\u001b[0m\n\u001b[1;33m    first name='Subhash'\u001b[0m\n\u001b[1;37m          ^\u001b[0m\n\u001b[1;31mSyntaxError\u001b[0m\u001b[1;31m:\u001b[0m invalid syntax\n"
     ]
    }
   ],
   "source": [
    "### 1. variables name should not have space\n",
    "first name='Subhash'"
   ]
  },
  {
   "cell_type": "code",
   "execution_count": 22,
   "id": "6b9408a5",
   "metadata": {},
   "outputs": [
    {
     "data": {
      "text/plain": [
       "'Subhash'"
      ]
     },
     "execution_count": 22,
     "metadata": {},
     "output_type": "execute_result"
    }
   ],
   "source": [
    "### 2. Variable name should start with A-Z,a-z or_(underscore)\n",
    "Firstname=\"Subhash\"\n",
    "Firstname \n",
    "#Starting with upper case"
   ]
  },
  {
   "cell_type": "code",
   "execution_count": 23,
   "id": "ce5b7dd3",
   "metadata": {},
   "outputs": [
    {
     "data": {
      "text/plain": [
       "'data'"
      ]
     },
     "execution_count": 23,
     "metadata": {},
     "output_type": "execute_result"
    }
   ],
   "source": [
    "name=\"data\"\n",
    "name \n",
    "#Starting with lower case"
   ]
  },
  {
   "cell_type": "code",
   "execution_count": 24,
   "id": "2cb8671f",
   "metadata": {},
   "outputs": [
    {
     "data": {
      "text/plain": [
       "'Sai Subhash'"
      ]
     },
     "execution_count": 24,
     "metadata": {},
     "output_type": "execute_result"
    }
   ],
   "source": [
    "_name=\"Sai Subhash\"\n",
    "_name\n",
    "#Starting with underscore"
   ]
  },
  {
   "cell_type": "code",
   "execution_count": 26,
   "id": "cda20ceb",
   "metadata": {},
   "outputs": [
    {
     "ename": "SyntaxError",
     "evalue": "cannot assign to operator (4024942910.py, line 1)",
     "output_type": "error",
     "traceback": [
      "\u001b[1;36m  Input \u001b[1;32mIn [26]\u001b[1;36m\u001b[0m\n\u001b[1;33m    +name=\"Subhash\"\u001b[0m\n\u001b[1;37m    ^\u001b[0m\n\u001b[1;31mSyntaxError\u001b[0m\u001b[1;31m:\u001b[0m cannot assign to operator\n"
     ]
    }
   ],
   "source": [
    "+name=\"Subhash\"\n",
    "+name\n",
    "#Starting with operational operators case"
   ]
  },
  {
   "cell_type": "code",
   "execution_count": 1,
   "id": "5cfb2d9e",
   "metadata": {},
   "outputs": [
    {
     "ename": "SyntaxError",
     "evalue": "invalid syntax (3755703768.py, line 2)",
     "output_type": "error",
     "traceback": [
      "\u001b[1;36m  Input \u001b[1;32mIn [1]\u001b[1;36m\u001b[0m\n\u001b[1;33m    1name=\"Supriya\"\u001b[0m\n\u001b[1;37m     ^\u001b[0m\n\u001b[1;31mSyntaxError\u001b[0m\u001b[1;31m:\u001b[0m invalid syntax\n"
     ]
    }
   ],
   "source": [
    "### 3. variable name should not start with number\n",
    "1name=\"Supriya\"\n",
    "1name"
   ]
  },
  {
   "cell_type": "code",
   "execution_count": 30,
   "id": "ceef8795",
   "metadata": {},
   "outputs": [
    {
     "data": {
      "text/plain": [
       "'Supriya'"
      ]
     },
     "execution_count": 30,
     "metadata": {},
     "output_type": "execute_result"
    }
   ],
   "source": [
    "name1=\"Supriya\"\n",
    "name1"
   ]
  },
  {
   "cell_type": "code",
   "execution_count": 31,
   "id": "4ff34e7d",
   "metadata": {},
   "outputs": [
    {
     "data": {
      "text/plain": [
       "'Supriya'"
      ]
     },
     "execution_count": 31,
     "metadata": {},
     "output_type": "execute_result"
    }
   ],
   "source": [
    "n2name=\"Supriya\"\n",
    "n2name"
   ]
  },
  {
   "cell_type": "code",
   "execution_count": 2,
   "id": "3ce54b13",
   "metadata": {},
   "outputs": [],
   "source": [
    "### 4. Only allowed spl char is_(underscore)"
   ]
  },
  {
   "cell_type": "code",
   "execution_count": 8,
   "id": "97894899",
   "metadata": {},
   "outputs": [
    {
     "ename": "SyntaxError",
     "evalue": "cannot assign to operator (2124896540.py, line 1)",
     "output_type": "error",
     "traceback": [
      "\u001b[1;36m  Input \u001b[1;32mIn [8]\u001b[1;36m\u001b[0m\n\u001b[1;33m    first+name=\"Artificial intelligence\"\u001b[0m\n\u001b[1;37m    ^\u001b[0m\n\u001b[1;31mSyntaxError\u001b[0m\u001b[1;31m:\u001b[0m cannot assign to operator\n"
     ]
    }
   ],
   "source": [
    "first+name=\"Artificial intelligence\"\n",
    "first+name"
   ]
  },
  {
   "cell_type": "code",
   "execution_count": 10,
   "id": "97113813",
   "metadata": {},
   "outputs": [
    {
     "data": {
      "text/plain": [
       "'Artificial intelligence'"
      ]
     },
     "execution_count": 10,
     "metadata": {},
     "output_type": "execute_result"
    }
   ],
   "source": [
    "first_name=\"Artificial intelligence\"\n",
    "first_name"
   ]
  },
  {
   "cell_type": "code",
   "execution_count": 11,
   "id": "4d637f8f",
   "metadata": {},
   "outputs": [
    {
     "data": {
      "text/plain": [
       "type"
      ]
     },
     "execution_count": 11,
     "metadata": {},
     "output_type": "execute_result"
    }
   ],
   "source": [
    "type(type(first_name))"
   ]
  },
  {
   "cell_type": "markdown",
   "id": "9e6408d3",
   "metadata": {},
   "source": [
    "## Data Types"
   ]
  },
  {
   "cell_type": "code",
   "execution_count": 32,
   "id": "17360212",
   "metadata": {},
   "outputs": [
    {
     "data": {
      "text/plain": [
       "float"
      ]
     },
     "execution_count": 32,
     "metadata": {},
     "output_type": "execute_result"
    }
   ],
   "source": [
    "x=10.5\n",
    "type(x)"
   ]
  },
  {
   "cell_type": "code",
   "execution_count": 33,
   "id": "43fc1214",
   "metadata": {},
   "outputs": [
    {
     "data": {
      "text/plain": [
       "int"
      ]
     },
     "execution_count": 33,
     "metadata": {},
     "output_type": "execute_result"
    }
   ],
   "source": [
    "y=10\n",
    "type(y)"
   ]
  },
  {
   "cell_type": "code",
   "execution_count": 34,
   "id": "0df41db5",
   "metadata": {},
   "outputs": [
    {
     "data": {
      "text/plain": [
       "bool"
      ]
     },
     "execution_count": 34,
     "metadata": {},
     "output_type": "execute_result"
    }
   ],
   "source": [
    "z=True\n",
    "type(z)"
   ]
  },
  {
   "cell_type": "code",
   "execution_count": 35,
   "id": "a4f790ca",
   "metadata": {},
   "outputs": [
    {
     "data": {
      "text/plain": [
       "str"
      ]
     },
     "execution_count": 35,
     "metadata": {},
     "output_type": "execute_result"
    }
   ],
   "source": [
    "z=\"Subhash\"\n",
    "type(z)"
   ]
  },
  {
   "cell_type": "code",
   "execution_count": 36,
   "id": "2ea07a52",
   "metadata": {},
   "outputs": [
    {
     "ename": "NameError",
     "evalue": "name 'true' is not defined",
     "output_type": "error",
     "traceback": [
      "\u001b[1;31m---------------------------------------------------------------------------\u001b[0m",
      "\u001b[1;31mNameError\u001b[0m                                 Traceback (most recent call last)",
      "Input \u001b[1;32mIn [36]\u001b[0m, in \u001b[0;36m<cell line: 1>\u001b[1;34m()\u001b[0m\n\u001b[1;32m----> 1\u001b[0m z\u001b[38;5;241m=\u001b[39m\u001b[43mtrue\u001b[49m\n\u001b[0;32m      2\u001b[0m \u001b[38;5;28mtype\u001b[39m(z)\n",
      "\u001b[1;31mNameError\u001b[0m: name 'true' is not defined"
     ]
    }
   ],
   "source": [
    "z=true\n",
    "type(z)\n",
    "## Boolean true Should be in Capital (T) True"
   ]
  },
  {
   "cell_type": "code",
   "execution_count": 37,
   "id": "32983c61",
   "metadata": {},
   "outputs": [
    {
     "data": {
      "text/plain": [
       "10"
      ]
     },
     "execution_count": 37,
     "metadata": {},
     "output_type": "execute_result"
    }
   ],
   "source": [
    "x=10\n",
    "type(x)\n",
    "x\n",
    "## Here type of Data is not printed"
   ]
  },
  {
   "cell_type": "code",
   "execution_count": 38,
   "id": "649d6d1a",
   "metadata": {},
   "outputs": [
    {
     "data": {
      "text/plain": [
       "(10, int)"
      ]
     },
     "execution_count": 38,
     "metadata": {},
     "output_type": "execute_result"
    }
   ],
   "source": [
    "x,type(x)"
   ]
  },
  {
   "cell_type": "code",
   "execution_count": 12,
   "id": "687143cf",
   "metadata": {},
   "outputs": [
    {
     "data": {
      "text/plain": [
       "10"
      ]
     },
     "execution_count": 12,
     "metadata": {},
     "output_type": "execute_result"
    }
   ],
   "source": [
    "x,y=10,20\n",
    "y\n",
    "x"
   ]
  },
  {
   "cell_type": "code",
   "execution_count": 13,
   "id": "de619662",
   "metadata": {},
   "outputs": [
    {
     "data": {
      "text/plain": [
       "(10, 20)"
      ]
     },
     "execution_count": 13,
     "metadata": {},
     "output_type": "execute_result"
    }
   ],
   "source": [
    "x,y"
   ]
  },
  {
   "cell_type": "code",
   "execution_count": 14,
   "id": "a3d53e1f",
   "metadata": {},
   "outputs": [
    {
     "data": {
      "text/plain": [
       "(20, 10)"
      ]
     },
     "execution_count": 14,
     "metadata": {},
     "output_type": "execute_result"
    }
   ],
   "source": [
    "y,x"
   ]
  },
  {
   "cell_type": "code",
   "execution_count": null,
   "id": "9527f503",
   "metadata": {},
   "outputs": [],
   "source": [
    "### Print your name\n",
    "### Data type of ur name\n",
    "### Print your age\n",
    "### Data type"
   ]
  },
  {
   "cell_type": "code",
   "execution_count": 24,
   "id": "30097f56",
   "metadata": {},
   "outputs": [
    {
     "name": "stdout",
     "output_type": "stream",
     "text": [
      "Sai Subhash M\n"
     ]
    },
    {
     "data": {
      "text/plain": [
       "str"
      ]
     },
     "execution_count": 24,
     "metadata": {},
     "output_type": "execute_result"
    }
   ],
   "source": [
    "print(\"Sai Subhash M\")\n",
    "x=\"Sai Subhash\"\n",
    "type(x)"
   ]
  },
  {
   "cell_type": "code",
   "execution_count": 27,
   "id": "73f37e19",
   "metadata": {},
   "outputs": [
    {
     "name": "stdout",
     "output_type": "stream",
     "text": [
      "19\n"
     ]
    },
    {
     "data": {
      "text/plain": [
       "int"
      ]
     },
     "execution_count": 27,
     "metadata": {},
     "output_type": "execute_result"
    }
   ],
   "source": [
    "print(19)\n",
    "z=19\n",
    "type(z)"
   ]
  }
 ],
 "metadata": {
  "kernelspec": {
   "display_name": "Python 3 (ipykernel)",
   "language": "python",
   "name": "python3"
  },
  "language_info": {
   "codemirror_mode": {
    "name": "ipython",
    "version": 3
   },
   "file_extension": ".py",
   "mimetype": "text/x-python",
   "name": "python",
   "nbconvert_exporter": "python",
   "pygments_lexer": "ipython3",
   "version": "3.9.12"
  }
 },
 "nbformat": 4,
 "nbformat_minor": 5
}
